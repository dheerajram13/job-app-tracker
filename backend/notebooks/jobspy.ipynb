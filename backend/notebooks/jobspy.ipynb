{
 "cells": [
  {
   "cell_type": "markdown",
   "id": "3d56ed2d-983e-4f08-a343-193d14ee89b2",
   "metadata": {},
   "source": [
    "# Install the module "
   ]
  },
  {
   "cell_type": "code",
   "execution_count": 2,
   "id": "a3b2aff6-71ca-4f8b-a20e-949a9d55d142",
   "metadata": {},
   "outputs": [
    {
     "name": "stdout",
     "output_type": "stream",
     "text": [
      "Collecting python-jobspy\n",
      "  Using cached python_jobspy-1.1.78-py3-none-any.whl.metadata (10 kB)\n",
      "Requirement already satisfied: NUMPY==1.26.3 in /Users/dheeraj/.local/share/virtualenvs/notebooks-DrXRwc3r/lib/python3.13/site-packages (from python-jobspy) (1.26.3)\n",
      "Requirement already satisfied: beautifulsoup4<5.0.0,>=4.12.2 in /Users/dheeraj/.local/share/virtualenvs/notebooks-DrXRwc3r/lib/python3.13/site-packages (from python-jobspy) (4.13.3)\n",
      "Collecting markdownify<0.14.0,>=0.13.1 (from python-jobspy)\n",
      "  Using cached markdownify-0.13.1-py3-none-any.whl.metadata (8.5 kB)\n",
      "Collecting pandas<3.0.0,>=2.1.0 (from python-jobspy)\n",
      "  Using cached pandas-2.2.3-cp313-cp313-macosx_11_0_arm64.whl.metadata (89 kB)\n",
      "Collecting pydantic<3.0.0,>=2.3.0 (from python-jobspy)\n",
      "  Using cached pydantic-2.10.6-py3-none-any.whl.metadata (30 kB)\n",
      "Requirement already satisfied: regex<2025.0.0,>=2024.4.28 in /Users/dheeraj/.local/share/virtualenvs/notebooks-DrXRwc3r/lib/python3.13/site-packages (from python-jobspy) (2024.11.6)\n",
      "Requirement already satisfied: requests<3.0.0,>=2.31.0 in /Users/dheeraj/.local/share/virtualenvs/notebooks-DrXRwc3r/lib/python3.13/site-packages (from python-jobspy) (2.32.3)\n",
      "Requirement already satisfied: tls-client<2.0.0,>=1.0.1 in /Users/dheeraj/.local/share/virtualenvs/notebooks-DrXRwc3r/lib/python3.13/site-packages (from python-jobspy) (1.0.1)\n",
      "Requirement already satisfied: soupsieve>1.2 in /Users/dheeraj/.local/share/virtualenvs/notebooks-DrXRwc3r/lib/python3.13/site-packages (from beautifulsoup4<5.0.0,>=4.12.2->python-jobspy) (2.6)\n",
      "Requirement already satisfied: typing-extensions>=4.0.0 in /Users/dheeraj/.local/share/virtualenvs/notebooks-DrXRwc3r/lib/python3.13/site-packages (from beautifulsoup4<5.0.0,>=4.12.2->python-jobspy) (4.12.2)\n",
      "Requirement already satisfied: six<2,>=1.15 in /Users/dheeraj/.local/share/virtualenvs/notebooks-DrXRwc3r/lib/python3.13/site-packages (from markdownify<0.14.0,>=0.13.1->python-jobspy) (1.17.0)\n",
      "Requirement already satisfied: python-dateutil>=2.8.2 in /Users/dheeraj/.local/share/virtualenvs/notebooks-DrXRwc3r/lib/python3.13/site-packages (from pandas<3.0.0,>=2.1.0->python-jobspy) (2.9.0.post0)\n",
      "Requirement already satisfied: pytz>=2020.1 in /Users/dheeraj/.local/share/virtualenvs/notebooks-DrXRwc3r/lib/python3.13/site-packages (from pandas<3.0.0,>=2.1.0->python-jobspy) (2025.1)\n",
      "Requirement already satisfied: tzdata>=2022.7 in /Users/dheeraj/.local/share/virtualenvs/notebooks-DrXRwc3r/lib/python3.13/site-packages (from pandas<3.0.0,>=2.1.0->python-jobspy) (2025.1)\n",
      "Collecting annotated-types>=0.6.0 (from pydantic<3.0.0,>=2.3.0->python-jobspy)\n",
      "  Using cached annotated_types-0.7.0-py3-none-any.whl.metadata (15 kB)\n",
      "Requirement already satisfied: pydantic-core==2.27.2 in /Users/dheeraj/.local/share/virtualenvs/notebooks-DrXRwc3r/lib/python3.13/site-packages (from pydantic<3.0.0,>=2.3.0->python-jobspy) (2.27.2)\n",
      "Requirement already satisfied: charset-normalizer<4,>=2 in /Users/dheeraj/.local/share/virtualenvs/notebooks-DrXRwc3r/lib/python3.13/site-packages (from requests<3.0.0,>=2.31.0->python-jobspy) (3.4.1)\n",
      "Requirement already satisfied: idna<4,>=2.5 in /Users/dheeraj/.local/share/virtualenvs/notebooks-DrXRwc3r/lib/python3.13/site-packages (from requests<3.0.0,>=2.31.0->python-jobspy) (3.10)\n",
      "Requirement already satisfied: urllib3<3,>=1.21.1 in /Users/dheeraj/.local/share/virtualenvs/notebooks-DrXRwc3r/lib/python3.13/site-packages (from requests<3.0.0,>=2.31.0->python-jobspy) (2.3.0)\n",
      "Requirement already satisfied: certifi>=2017.4.17 in /Users/dheeraj/.local/share/virtualenvs/notebooks-DrXRwc3r/lib/python3.13/site-packages (from requests<3.0.0,>=2.31.0->python-jobspy) (2025.1.31)\n",
      "Using cached python_jobspy-1.1.78-py3-none-any.whl (41 kB)\n",
      "Using cached markdownify-0.13.1-py3-none-any.whl (10 kB)\n",
      "Using cached pandas-2.2.3-cp313-cp313-macosx_11_0_arm64.whl (11.3 MB)\n",
      "Using cached pydantic-2.10.6-py3-none-any.whl (431 kB)\n",
      "Using cached annotated_types-0.7.0-py3-none-any.whl (13 kB)\n",
      "Installing collected packages: annotated-types, pydantic, pandas, markdownify, python-jobspy\n",
      "Successfully installed annotated-types-0.7.0 markdownify-0.13.1 pandas-2.2.3 pydantic-2.10.6 python-jobspy-1.1.78\n",
      "Note: you may need to restart the kernel to use updated packages.\n"
     ]
    }
   ],
   "source": [
    "pip install -U python-jobspy"
   ]
  },
  {
   "cell_type": "code",
   "execution_count": null,
   "id": "33e3da4e-0552-4a75-a19a-80ffe12db2a4",
   "metadata": {},
   "outputs": [],
   "source": []
  },
  {
   "cell_type": "code",
   "execution_count": 2,
   "id": "a7343bd0-02d2-4eb3-9667-1e761d216e7c",
   "metadata": {},
   "outputs": [
    {
     "name": "stdout",
     "output_type": "stream",
     "text": [
      "Searching for Software Engineer positions in Australia...\n"
     ]
    },
    {
     "name": "stderr",
     "output_type": "stream",
     "text": [
      "2025-04-27 19:57:46,161 - ERROR - JobSpy:ZipRecruiter - 429 Response - Blocked by ZipRecruiter for too many requests\n"
     ]
    },
    {
     "name": "stdout",
     "output_type": "stream",
     "text": [
      "Found 25 jobs for Software Engineer\n",
      "Searching for Full Stack Developer positions in Australia...\n"
     ]
    },
    {
     "name": "stderr",
     "output_type": "stream",
     "text": [
      "2025-04-27 19:57:58,491 - ERROR - JobSpy:ZipRecruiter - 429 Response - Blocked by ZipRecruiter for too many requests\n"
     ]
    },
    {
     "name": "stdout",
     "output_type": "stream",
     "text": [
      "Found 14 jobs for Full Stack Developer\n",
      "Searching for Machine Learning Engineer positions in Australia...\n"
     ]
    },
    {
     "name": "stderr",
     "output_type": "stream",
     "text": [
      "2025-04-27 19:58:16,431 - ERROR - JobSpy:ZipRecruiter - 429 Response - Blocked by ZipRecruiter for too many requests\n"
     ]
    },
    {
     "name": "stdout",
     "output_type": "stream",
     "text": [
      "Found 19 jobs for Machine Learning Engineer\n",
      "Searching for Data Scientist positions in Australia...\n"
     ]
    },
    {
     "name": "stderr",
     "output_type": "stream",
     "text": [
      "2025-04-27 19:58:32,477 - ERROR - JobSpy:ZipRecruiter - 429 Response - Blocked by ZipRecruiter for too many requests\n"
     ]
    },
    {
     "name": "stdout",
     "output_type": "stream",
     "text": [
      "Found 20 jobs for Data Scientist\n",
      "Searching for Software Engineer Intern positions in Australia...\n"
     ]
    },
    {
     "name": "stderr",
     "output_type": "stream",
     "text": [
      "2025-04-27 19:58:44,695 - ERROR - JobSpy:ZipRecruiter - 429 Response - Blocked by ZipRecruiter for too many requests\n"
     ]
    },
    {
     "name": "stdout",
     "output_type": "stream",
     "text": [
      "Found 0 jobs for Software Engineer Intern\n",
      "Searching for Data Scientist Intern positions in Australia...\n"
     ]
    },
    {
     "name": "stderr",
     "output_type": "stream",
     "text": [
      "2025-04-27 19:58:51,572 - ERROR - JobSpy:ZipRecruiter - 429 Response - Blocked by ZipRecruiter for too many requests\n"
     ]
    },
    {
     "name": "stdout",
     "output_type": "stream",
     "text": [
      "Found 20 jobs for Data Scientist Intern\n",
      "\n",
      "Search complete! Found 45 unique job positions.\n",
      "Results saved to job_search_results_2025-04-27.csv\n",
      "\n",
      "Summary by job role:\n",
      "Software Engineer: 25 positions\n",
      "Data Scientist: 8 positions\n",
      "Machine Learning Engineer: 7 positions\n",
      "Full Stack Developer: 4 positions\n",
      "Data Scientist Intern: 1 positions\n"
     ]
    },
    {
     "name": "stderr",
     "output_type": "stream",
     "text": [
      "/var/folders/tf/zvbc60n167bdv5gcmc8nwbmm0000gn/T/ipykernel_82558/620117962.py:62: FutureWarning: The behavior of DataFrame concatenation with empty or all-NA entries is deprecated. In a future version, this will no longer exclude empty or all-NA columns when determining the result dtypes. To retain the old behavior, exclude the relevant entries before the concat operation.\n",
      "  combined_results = pd.concat(all_results, ignore_index=True)\n"
     ]
    }
   ],
   "source": [
    "import pandas as pd\n",
    "from jobspy import scrape_jobs\n",
    "import time\n",
    "from datetime import datetime\n",
    "import csv\n",
    "\n",
    "# Define the job roles you're interested in\n",
    "job_roles = [\n",
    "    \"Software Engineer\",\n",
    "    \"Full Stack Developer\",\n",
    "    \"Machine Learning Engineer\",\n",
    "    \"Data Scientist\",\n",
    "    \"Software Engineer Intern\",\n",
    "    \"Data Scientist Intern\"\n",
    "]\n",
    "\n",
    "# Define location and other parameters\n",
    "location = \"Australia\"\n",
    "results_wanted = 20  # per role\n",
    "hours_old = 24  # last 24 hours\n",
    "\n",
    "# Sites to search\n",
    "sites = [\"indeed\", \"linkedin\", \"zip_recruiter\", \"glassdoor\", \"google\"]\n",
    "\n",
    "all_results = []\n",
    "\n",
    "# Get the current date for the filename\n",
    "current_date = datetime.now().strftime(\"%Y-%m-%d\")\n",
    "\n",
    "# Loop through each job role\n",
    "for role in job_roles:\n",
    "    print(f\"Searching for {role} positions in {location}...\")\n",
    "    \n",
    "    try:\n",
    "        # For regular roles\n",
    "        results = scrape_jobs(\n",
    "            site_name=sites,\n",
    "            search_term=role,\n",
    "            google_search_term=f\"{role} jobs near {location}, since yesterday\",\n",
    "            location=location,\n",
    "            results_wanted=results_wanted,\n",
    "            hours_old=hours_old,\n",
    "            country_indeed='Australia',\n",
    "        )\n",
    "        \n",
    "        # Add a column to identify the search term used\n",
    "        results['search_role'] = role\n",
    "        \n",
    "        # Add to our collection\n",
    "        all_results.append(results)\n",
    "        \n",
    "        print(f\"Found {len(results)} jobs for {role}\")\n",
    "        \n",
    "        # Wait between searches to avoid rate limiting\n",
    "        time.sleep(5)\n",
    "        \n",
    "    except Exception as e:\n",
    "        print(f\"Error searching for {role}: {e}\")\n",
    "\n",
    "# Combine all results\n",
    "if all_results:\n",
    "    combined_results = pd.concat(all_results, ignore_index=True)\n",
    "    \n",
    "    # Remove duplicates based on job title and company\n",
    "    combined_results_no_dupes = combined_results.drop_duplicates(subset=['title', 'company', 'location'])\n",
    "    \n",
    "    # Save to CSV\n",
    "    filename = f\"job_search_results_{current_date}.csv\"\n",
    "    combined_results_no_dupes.to_csv(filename, index=False)\n",
    "    \n",
    "    print(f\"\\nSearch complete! Found {len(combined_results_no_dupes)} unique job positions.\")\n",
    "    print(f\"Results saved to {filename}\")\n",
    "    \n",
    "    # Display summary by job role\n",
    "    print(\"\\nSummary by job role:\")\n",
    "    role_counts = combined_results_no_dupes['search_role'].value_counts()\n",
    "    for role, count in role_counts.items():\n",
    "        print(f\"{role}: {count} positions\")\n",
    "else:\n",
    "    print(\"No results found for any job role.\")"
   ]
  },
  {
   "cell_type": "code",
   "execution_count": null,
   "id": "497b2c5d-f7dc-4d14-b1e2-e228653308a2",
   "metadata": {},
   "outputs": [],
   "source": []
  }
 ],
 "metadata": {
  "kernelspec": {
   "display_name": "Python 3 (ipykernel)",
   "language": "python",
   "name": "python3"
  },
  "language_info": {
   "codemirror_mode": {
    "name": "ipython",
    "version": 3
   },
   "file_extension": ".py",
   "mimetype": "text/x-python",
   "name": "python",
   "nbconvert_exporter": "python",
   "pygments_lexer": "ipython3",
   "version": "3.13.2"
  }
 },
 "nbformat": 4,
 "nbformat_minor": 5
}
